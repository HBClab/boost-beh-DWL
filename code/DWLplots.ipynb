{
 "cells": [
  {
   "cell_type": "code",
   "execution_count": 40,
   "metadata": {},
   "outputs": [],
   "source": [
    "import pandas as pd\n",
    "import numpy as np\n",
    "import matplotlib.pyplot as plt\n",
    "import seaborn as sns\n"
   ]
  },
  {
   "cell_type": "code",
   "execution_count": 41,
   "metadata": {},
   "outputs": [],
   "source": [
    "df = pd.read_csv('/Users/zakg04/Documents/HBC_lab/BOOST/Main/TaskLogic/data/test/test-7005/processed/DWL/7005_DWL_A.csv')\n",
    "\n",
    "listA = [['book', 'flower', 'train', 'rug', 'meadow', 'harp', 'salt', 'finger', 'apple', 'chimney', 'log', 'button', 'key', 'gold', 'rattle'],['bowl', 'dawn', 'judge', 'grant', 'insect', 'plane', 'county', 'pool', 'seed', 'sheep', 'meal', 'coat', 'bottle', 'peach', 'chair']]\n",
    "listB = [['street', 'grass', 'door', 'arm', 'star', 'wife', 'window', 'city', 'pupil', 'cabin', 'lake', 'pipe', 'skin', 'fire', 'clock'],['baby', 'ocean', 'palace', 'lip', 'bar', 'dress', 'steam', 'coin', 'rock', 'army', 'building', 'friend', 'storm', 'village', 'cell']]\n",
    "listC = [['tower', 'wheat', 'queen', 'sugar', 'home', 'boy', 'doctor', 'camp', 'flag', 'letter', 'corn', 'nail', 'cattle', 'shore', 'body'],['sky', 'dollar', 'valley', 'butter', 'hall', 'diamond', 'winter', 'mother', 'christmas', 'meat', 'forest', 'tool', 'plant', 'money', 'hotel']]\n"
   ]
  },
  {
   "cell_type": "code",
   "execution_count": 50,
   "metadata": {},
   "outputs": [],
   "source": [
    "def fuzzy(sub_list, word_list):\n",
    "\n",
    "    from fuzzywuzzy import fuzz\n",
    "    from fuzzywuzzy import process\n",
    "    print(sub_list)\n",
    "    print(word_list)\n",
    "    count =0\n",
    "    used = []\n",
    "    passed =[]\n",
    "    #iterate through the list of lists and compare the first element of each list to all in list of words\n",
    "    #the word in sub_list that has the highest ratio to a word in word_list is the word that is most similar\n",
    "    #if that ratio is greater than 80, add 1 to count\n",
    "    for i in range(len(sub_list)):\n",
    "        for j in range(len(word_list)):\n",
    "            ratio = fuzz.ratio(sub_list[i], word_list[j])\n",
    "            if ratio > 80 and word_list[j] not in used:\n",
    "                count += 1\n",
    "                used.append(word_list[j])\n",
    "                passed.append(sub_list[i])\n",
    "                break\n",
    "    return count/len(word_list), passed \n",
    "\n",
    "def absolute(sub_list, word_list):\n",
    "\n",
    "    count = 0\n",
    "    used = []\n",
    "    passed = []\n",
    "    for i in range(len(sub_list)):\n",
    "        for j in range(len(word_list)):\n",
    "            if sub_list[i][0] == word_list[j] and word_list[j] not in used:\n",
    "                count += 1\n",
    "                used.append(word_list[j])\n",
    "                passed.append(sub_list[i][0])\n",
    "                break\n",
    "    return count/len(word_list), passed \n",
    "\n",
    "def plot_circular_bar_graph(percentages, name):\n",
    "    from math import pi\n",
    "    startangle = 90\n",
    "    colors = ['#4393E5', '#43BAE5', '#7AE6EA', '#E5A443']\n",
    "    \n",
    "    # Convert data to fit the polar axis\n",
    "    ys = [i *1.1 for i in range(len(percentages))]   # One bar for each block\n",
    "    left = (startangle * pi * 2) / 360  # This is to control where the bar starts\n",
    "\n",
    "    # Figure and polar axis\n",
    "    fig, ax = plt.subplots(figsize=(6, 6))\n",
    "    ax = plt.subplot(projection='polar')\n",
    "\n",
    "    # Plot bars and points at the end to make them round\n",
    "    for i, (block, percentage) in enumerate(percentages.items()):\n",
    "        ax.barh(ys[i], percentage * 2 * pi, left=left, height=1, color=colors[i % len(colors)], label=block)\n",
    "        ax.text(percentage + left + 0.02, ys[i], f'{percentage:.0%}', va='center', ha='left', color='black', fontsize=12)\n",
    "\n",
    "    plt.ylim(-1, len(percentages))\n",
    "\n",
    "    # Custom legend\n",
    "    ax.legend(loc='center', bbox_to_anchor=(0.5, -0.1), frameon=True) \n",
    "\n",
    "    # Clear ticks and spines\n",
    "    plt.xticks([])\n",
    "    plt.yticks([])\n",
    "    ax.spines.clear()\n",
    "    plt.title(name, fontsize=15, pad=20, color=\"white\")\n",
    "\n",
    "    plt.show()\n"
   ]
  },
  {
   "cell_type": "code",
   "execution_count": 43,
   "metadata": {},
   "outputs": [
    {
     "data": {
      "text/plain": [
       "[2.120000123977661,\n",
       " 2.0380001068115234,\n",
       " 1.7690000534057617,\n",
       " 1.5529999732971191,\n",
       " 1.670000076293947,\n",
       " 1.2189998626708949,\n",
       " 1.3199999332427996,\n",
       " 1.5190000534057617,\n",
       " 1.937999963760376,\n",
       " 2.30400013923645,\n",
       " 1.6699998378753662,\n",
       " 1.2520000934600795,\n",
       " 1.6200001239776682,\n",
       " 1.2189998626708913]"
      ]
     },
     "execution_count": 43,
     "metadata": {},
     "output_type": "execute_result"
    }
   ],
   "source": [
    "word_duration = []\n",
    "for i in range(len(df)-1):\n",
    "    if i ==0:\n",
    "        word_duration.append(df['block_dur'][i])\n",
    "    else:\n",
    "        word_duration.append(df['block_dur'][i+1] - df['block_dur'][i])\n",
    "\n",
    "# add word duration for last word\n",
    "word_duration\n"
   ]
  },
  {
   "cell_type": "code",
   "execution_count": 44,
   "metadata": {},
   "outputs": [
    {
     "data": {
      "text/plain": [
       "['bookenter',\n",
       " 'flowerenter',\n",
       " 'trainenter',\n",
       " 'rugenter',\n",
       " 'meadowenter',\n",
       " 'saltenter',\n",
       " 'harpenter',\n",
       " 'fingerenter',\n",
       " 'appleenter',\n",
       " 'chimneyenter',\n",
       " 'logenter',\n",
       " 'buttonenter',\n",
       " 'keyenter',\n",
       " 'rattleenter',\n",
       " 'goldenter']"
      ]
     },
     "execution_count": 44,
     "metadata": {},
     "output_type": "execute_result"
    }
   ],
   "source": [
    "word_list = df['multichar_response'].tolist()\n",
    "word_list"
   ]
  },
  {
   "cell_type": "code",
   "execution_count": 45,
   "metadata": {},
   "outputs": [
    {
     "data": {
      "text/plain": [
       "['book',\n",
       " 'flower',\n",
       " 'train',\n",
       " 'rug',\n",
       " 'meadow',\n",
       " 'salt',\n",
       " 'harp',\n",
       " 'finger',\n",
       " 'apple',\n",
       " 'chimney',\n",
       " 'log',\n",
       " 'button',\n",
       " 'key',\n",
       " 'rattle',\n",
       " 'gold']"
      ]
     },
     "execution_count": 45,
     "metadata": {},
     "output_type": "execute_result"
    }
   ],
   "source": [
    "#remove last 5 characters of each word\n",
    "\n",
    "for i in range(len(word_list)):\n",
    "    word_list[i] = word_list[i][:-5]\n",
    "\n",
    "word_list"
   ]
  },
  {
   "cell_type": "code",
   "execution_count": 47,
   "metadata": {},
   "outputs": [
    {
     "name": "stdout",
     "output_type": "stream",
     "text": [
      "['book', 'flower', 'train', 'rug', 'meadow', 'salt', 'harp', 'finger', 'apple', 'chimney', 'log', 'button', 'key', 'rattle', 'gold']\n",
      "['book', 'flower', 'train', 'rug', 'meadow', 'harp', 'salt', 'finger', 'apple', 'chimney', 'log', 'button', 'key', 'gold', 'rattle']\n"
     ]
    },
    {
     "data": {
      "text/plain": [
       "(1.0,\n",
       " ['book',\n",
       "  'flower',\n",
       "  'train',\n",
       "  'rug',\n",
       "  'meadow',\n",
       "  'salt',\n",
       "  'harp',\n",
       "  'finger',\n",
       "  'apple',\n",
       "  'chimney',\n",
       "  'log',\n",
       "  'button',\n",
       "  'key',\n",
       "  'rattle',\n",
       "  'gold'])"
      ]
     },
     "execution_count": 47,
     "metadata": {},
     "output_type": "execute_result"
    }
   ],
   "source": [
    "delay_fuzz = fuzzy(word_list, listA[0])\n",
    "delay_fuzz"
   ]
  },
  {
   "cell_type": "code",
   "execution_count": 51,
   "metadata": {},
   "outputs": [
    {
     "data": {
      "image/png": "[encoded data removed]",
      "text/plain": [
       "<Figure size 432x432 with 1 Axes>"
      ]
     },
     "metadata": {},
     "output_type": "display_data"
    }
   ],
   "source": [
    "#plot accuracy on circular bar graph\n",
    "percentages = {'Correct': delay_fuzz[0]}\n",
    "plot_circular_bar_graph(percentages, 'Accuracy')\n"
   ]
  },
  {
   "cell_type": "code",
   "execution_count": 66,
   "metadata": {},
   "outputs": [
    {
     "data": {
      "image/png": "[encoded data removed]",
      "text/plain": [
       "<Figure size 720x432 with 1 Axes>"
      ]
     },
     "metadata": {
      "needs_background": "light"
     },
     "output_type": "display_data"
    }
   ],
   "source": [
    "#plot response time as a scatter plot with transparent box and whisker plot on top, demarcate if response was correct or not\n",
    "correct = []\n",
    "for i in range(len(word_list)):\n",
    "    if word_list[i] in delay_fuzz[1]:\n",
    "        correct.append(1)\n",
    "    else:\n",
    "        correct.append(0)\n",
    "\n",
    "plt.figure(figsize=(10, 6))\n",
    "sns.scatterplot(x=word_list, y=df['response_time'], hue = correct, palette='viridis')\n",
    "sns.boxplot(x=word_list, y=df['response_time'], color='black', showfliers=False)\n",
    "plt.xlabel('Response Time (s)')\n",
    "plt.ylabel('Trial Number')\n",
    "#add legend showing 0 as incorrect and 1 as correct as different colors\n",
    "plt.legend(title='correct')\n",
    "\n",
    "plt.title('Response Time for Each Trial')\n",
    "plt.show()\n"
   ]
  },
  {
   "cell_type": "code",
   "execution_count": 78,
   "metadata": {},
   "outputs": [
    {
     "data": {
      "text/html": [
       "<div>\n",
       "<style scoped>\n",
       "    .dataframe tbody tr th:only-of-type {\n",
       "        vertical-align: middle;\n",
       "    }\n",
       "\n",
       "    .dataframe tbody tr th {\n",
       "        vertical-align: top;\n",
       "    }\n",
       "\n",
       "    .dataframe thead th {\n",
       "        text-align: right;\n",
       "    }\n",
       "</style>\n",
       "<table border=\"1\" class=\"dataframe\">\n",
       "  <thead>\n",
       "    <tr style=\"text-align: right;\">\n",
       "      <th></th>\n",
       "      <th>word</th>\n",
       "      <th>response_time</th>\n",
       "      <th>correct</th>\n",
       "      <th>backspace</th>\n",
       "    </tr>\n",
       "  </thead>\n",
       "  <tbody>\n",
       "    <tr>\n",
       "      <th>0</th>\n",
       "      <td>book</td>\n",
       "      <td>496</td>\n",
       "      <td>1</td>\n",
       "      <td>0</td>\n",
       "    </tr>\n",
       "    <tr>\n",
       "      <th>1</th>\n",
       "      <td>flower</td>\n",
       "      <td>288</td>\n",
       "      <td>1</td>\n",
       "      <td>0</td>\n",
       "    </tr>\n",
       "    <tr>\n",
       "      <th>2</th>\n",
       "      <td>train</td>\n",
       "      <td>1399</td>\n",
       "      <td>1</td>\n",
       "      <td>0</td>\n",
       "    </tr>\n",
       "    <tr>\n",
       "      <th>3</th>\n",
       "      <td>rug</td>\n",
       "      <td>376</td>\n",
       "      <td>1</td>\n",
       "      <td>0</td>\n",
       "    </tr>\n",
       "    <tr>\n",
       "      <th>4</th>\n",
       "      <td>meadow</td>\n",
       "      <td>678</td>\n",
       "      <td>1</td>\n",
       "      <td>0</td>\n",
       "    </tr>\n",
       "    <tr>\n",
       "      <th>5</th>\n",
       "      <td>salt</td>\n",
       "      <td>265</td>\n",
       "      <td>1</td>\n",
       "      <td>0</td>\n",
       "    </tr>\n",
       "    <tr>\n",
       "      <th>6</th>\n",
       "      <td>harp</td>\n",
       "      <td>306</td>\n",
       "      <td>1</td>\n",
       "      <td>0</td>\n",
       "    </tr>\n",
       "    <tr>\n",
       "      <th>7</th>\n",
       "      <td>finger</td>\n",
       "      <td>439</td>\n",
       "      <td>1</td>\n",
       "      <td>0</td>\n",
       "    </tr>\n",
       "    <tr>\n",
       "      <th>8</th>\n",
       "      <td>apple</td>\n",
       "      <td>198</td>\n",
       "      <td>1</td>\n",
       "      <td>0</td>\n",
       "    </tr>\n",
       "    <tr>\n",
       "      <th>9</th>\n",
       "      <td>chimney</td>\n",
       "      <td>709</td>\n",
       "      <td>1</td>\n",
       "      <td>0</td>\n",
       "    </tr>\n",
       "    <tr>\n",
       "      <th>10</th>\n",
       "      <td>log</td>\n",
       "      <td>820</td>\n",
       "      <td>1</td>\n",
       "      <td>0</td>\n",
       "    </tr>\n",
       "    <tr>\n",
       "      <th>11</th>\n",
       "      <td>button</td>\n",
       "      <td>436</td>\n",
       "      <td>1</td>\n",
       "      <td>0</td>\n",
       "    </tr>\n",
       "    <tr>\n",
       "      <th>12</th>\n",
       "      <td>key</td>\n",
       "      <td>838</td>\n",
       "      <td>1</td>\n",
       "      <td>0</td>\n",
       "    </tr>\n",
       "    <tr>\n",
       "      <th>13</th>\n",
       "      <td>rattle</td>\n",
       "      <td>336</td>\n",
       "      <td>1</td>\n",
       "      <td>0</td>\n",
       "    </tr>\n",
       "    <tr>\n",
       "      <th>14</th>\n",
       "      <td>gold</td>\n",
       "      <td>633</td>\n",
       "      <td>1</td>\n",
       "      <td>0</td>\n",
       "    </tr>\n",
       "  </tbody>\n",
       "</table>\n",
       "</div>"
      ],
      "text/plain": [
       "       word  response_time  correct  backspace\n",
       "0      book            496        1          0\n",
       "1    flower            288        1          0\n",
       "2     train           1399        1          0\n",
       "3       rug            376        1          0\n",
       "4    meadow            678        1          0\n",
       "5      salt            265        1          0\n",
       "6      harp            306        1          0\n",
       "7    finger            439        1          0\n",
       "8     apple            198        1          0\n",
       "9   chimney            709        1          0\n",
       "10      log            820        1          0\n",
       "11   button            436        1          0\n",
       "12      key            838        1          0\n",
       "13   rattle            336        1          0\n",
       "14     gold            633        1          0"
      ]
     },
     "execution_count": 78,
     "metadata": {},
     "output_type": "execute_result"
    }
   ],
   "source": [
    "backspace = []\n",
    "for i in range(len(df)):\n",
    "    if 'backspace' in df['multichar_response'][i]:\n",
    "        backspace.append(1)\n",
    "    else:\n",
    "        backspace.append(0)\n",
    "df_delay = pd.DataFrame({'word': word_list, 'response_time': df['response_time'], 'correct': correct, 'backspace': backspace})\n",
    "df_delay"
   ]
  },
  {
   "cell_type": "code",
   "execution_count": 85,
   "metadata": {},
   "outputs": [
    {
     "data": {
      "image/png": "[encoded data removed]",
      "text/plain": [
       "<Figure size 720x432 with 1 Axes>"
      ]
     },
     "metadata": {},
     "output_type": "display_data"
    }
   ],
   "source": [
    "\n",
    "import seaborn as sb\n",
    "plt.figure(figsize=(10, 6))\n",
    "#plot the duratiion of each word for dist where blue is no backspace and red is backspace\n",
    "sb.scatterplot(x = 'word', y = 'response_time', data = df_delay, hue = 'backspace', s=75)\n",
    "sb.set(rc={'figure.figsize':(20,10)})\n",
    "plt.title('Distraction Condition')\n",
    "#add an x if the word is wrong\n",
    "for i in range(len(df_delay)):\n",
    "    if df_delay.iloc[i]['word'] not in delay_fuzz[1]:\n",
    "        plt.text(i, df_delay.iloc[i]['response_time'], 'x', fontsize=12, color='black')\n",
    "plt.show()\n",
    "\n"
   ]
  },
  {
   "cell_type": "code",
   "execution_count": null,
   "metadata": {},
   "outputs": [],
   "source": []
  }
 ],
 "metadata": {
  "kernelspec": {
   "display_name": "tensorflow",
   "language": "python",
   "name": "python3"
  },
  "language_info": {
   "codemirror_mode": {
    "name": "ipython",
    "version": 3
   },
   "file_extension": ".py",
   "mimetype": "text/x-python",
   "name": "python",
   "nbconvert_exporter": "python",
   "pygments_lexer": "ipython3",
   "version": "3.8.13"
  }
 },
 "nbformat": 4,
 "nbformat_minor": 2
}
